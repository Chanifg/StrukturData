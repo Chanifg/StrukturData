{
  "nbformat": 4,
  "nbformat_minor": 0,
  "metadata": {
    "colab": {
      "provenance": []
    },
    "kernelspec": {
      "name": "python3",
      "display_name": "Python 3"
    },
    "language_info": {
      "name": "python"
    }
  },
  "cells": [
    {
      "cell_type": "markdown",
      "source": [
        "Implementasi Stack dengan List Python - Fitur Undo dalam Teks Editor"
      ],
      "metadata": {
        "id": "oVudXsJP6Hlw"
      }
    },
    {
      "cell_type": "code",
      "execution_count": 3,
      "metadata": {
        "id": "PAhpjgi75I3H",
        "colab": {
          "base_uri": "https://localhost:8080/"
        },
        "outputId": "de8cab59-323f-4306-847c-71df9ab97a08"
      },
      "outputs": [
        {
          "output_type": "stream",
          "name": "stdout",
          "text": [
            "Undo: Menghapus 'Ini teks ketiga.'\n",
            "Undo: Menghapus 'Ini teks kedua.'\n"
          ]
        }
      ],
      "source": [
        "class TextEditor:\n",
        "    def __init__(self):\n",
        "      self.history = []\n",
        "\n",
        "    def write(self, text):\n",
        "      self.history.append(text)\n",
        "\n",
        "    def undo(self):\n",
        "      if self.history:\n",
        "        return f\"Undo: Menghapus '{self.history.pop()}'\"\n",
        "      return \"Tidak ada yang bisa di-undo\"\n",
        "\n",
        "# Contoh Penggunaan\n",
        "editor = TextEditor()\n",
        "editor.write(\"Halo, ini teks pertama.\")\n",
        "editor.write(\"Ini teks kedua.\")\n",
        "editor.write(\"Ini teks ketiga.\")\n",
        "\n",
        "print(editor.undo())  # Output: Undo: Menghapus 'Ini teks kedua.'\n",
        "print(editor.undo())  # Output: Undo: Menghapus 'Halo, ini teks pertama.'"
      ]
    },
    {
      "cell_type": "markdown",
      "source": [
        "Latihan 1"
      ],
      "metadata": {
        "id": "8nE5FRjELiXf"
      }
    },
    {
      "cell_type": "code",
      "source": [
        "class KalkulatorUndo:\n",
        "    def __init__(self, nilai_awal):\n",
        "        self.riwayat = [nilai_awal]\n",
        "\n",
        "    def tambah(self, nilai):\n",
        "        self.riwayat.append(self.riwayat[-1] + nilai)\n",
        "\n",
        "    def kurang(self, nilai):\n",
        "        self.riwayat.append(self.riwayat[-1] - nilai)\n",
        "\n",
        "    def kali(self, nilai):\n",
        "        self.riwayat.append(self.riwayat[-1] * nilai)\n",
        "\n",
        "    def bagi(self, nilai):\n",
        "        if nilai != 0:\n",
        "            self.riwayat.append(self.riwayat[-1] / nilai)\n",
        "        else:\n",
        "            print(\"Error: Pembagian dengan nol tidak diperbolehkan.\")\n",
        "\n",
        "    def undo(self):\n",
        "        if len(self.riwayat) > 1:\n",
        "            return f\"Undo: Menghapus hasil {self.riwayat.pop()}\"\n",
        "        return \"Tidak ada yang bisa di-undo\"\n",
        "\n",
        "    def nilai_sekarang(self):\n",
        "        return self.riwayat[-1]\n",
        "\n",
        "def validasi_input(prompt):\n",
        "    while True:\n",
        "        try:\n",
        "            return int(input(prompt))\n",
        "        except ValueError:\n",
        "            print(\"Input harus berupa angka!\")\n",
        "\n",
        "print(\"Selamat datang di program kalkulator!\")\n",
        "nilai_awal = validasi_input(\"Masukkan nilai awal: \")\n",
        "kalkulator = KalkulatorUndo(nilai_awal)\n",
        "\n",
        "print(\"\\nOperasi yang tersedia:\")\n",
        "print(\"1. Tambah\")\n",
        "print(\"2. Kurang\")\n",
        "print(\"3. Kali\")\n",
        "print(\"4. Bagi\")\n",
        "print(\"5. Undo\")\n",
        "print(\"6. Keluar\")\n",
        "\n",
        "while True:\n",
        "    print(f\"\\nNilai saat ini: {kalkulator.nilai_sekarang()}\")\n",
        "    operasi = validasi_input(\"Masukkan pilihan: \")\n",
        "\n",
        "    if operasi == 6:\n",
        "        print(\"Terima kasih telah menggunakan program ini! 🥰\")\n",
        "        break\n",
        "    elif operasi == 5:\n",
        "        print(kalkulator.undo())\n",
        "    elif operasi in [1, 2, 3, 4]:\n",
        "        angka = validasi_input(\"Masukkan angka: \")\n",
        "\n",
        "        if operasi == 1:\n",
        "            kalkulator.tambah(angka)\n",
        "        elif operasi == 2:\n",
        "            kalkulator.kurang(angka)\n",
        "        elif operasi == 3:\n",
        "            kalkulator.kali(angka)\n",
        "        elif operasi == 4:\n",
        "            kalkulator.bagi(angka)\n",
        "    else:\n",
        "        print(\"Operasi tidak valid!\")\n"
      ],
      "metadata": {
        "colab": {
          "base_uri": "https://localhost:8080/"
        },
        "id": "xxgIsnuyPFod",
        "outputId": "6d6af280-0592-45f3-bfac-fa38827fd7e1"
      },
      "execution_count": 4,
      "outputs": [
        {
          "output_type": "stream",
          "name": "stdout",
          "text": [
            "Selamat datang di program kalkulator!\n",
            "Masukkan nilai awal: 25\n",
            "\n",
            "Operasi yang tersedia:\n",
            "1. Tambah\n",
            "2. Kurang\n",
            "3. Kali\n",
            "4. Bagi\n",
            "5. Undo\n",
            "6. Keluar\n",
            "\n",
            "Nilai saat ini: 25\n",
            "Masukkan pilihan: 1\n",
            "Masukkan angka: 5\n",
            "\n",
            "Nilai saat ini: 30\n",
            "Masukkan pilihan: 4\n",
            "Masukkan angka: 35\n",
            "\n",
            "Nilai saat ini: 0.8571428571428571\n",
            "Masukkan pilihan: 3\n",
            "Masukkan angka: 44\n",
            "\n",
            "Nilai saat ini: 37.714285714285715\n",
            "Masukkan pilihan: 5\n",
            "Undo: Menghapus hasil 37.714285714285715\n",
            "\n",
            "Nilai saat ini: 0.8571428571428571\n",
            "Masukkan pilihan: 6\n",
            "Terima kasih telah menggunakan program ini! 🥰\n"
          ]
        }
      ]
    },
    {
      "cell_type": "markdown",
      "source": [
        "Implementasi Stack dengan collections.deque - Navigasi History Browser"
      ],
      "metadata": {
        "id": "f4MxxE6M6NVB"
      }
    },
    {
      "cell_type": "code",
      "source": [
        "from collections import deque\n",
        "\n",
        "class BrowserHistory:\n",
        "  def __init__(self):\n",
        "    self.history = deque()\n",
        "    self.current_index = -1\n",
        "\n",
        "  def visit(self, url):\n",
        "    self.history.append(url)\n",
        "    print(f\"Mengunjungi: {url}\")\n",
        "\n",
        "  def back(self):\n",
        "    if self.history:\n",
        "      print(f\"Kembali ke: {self.history.pop()}\")\n",
        "    else:\n",
        "      print(\"Tidak ada riwayat!\")\n",
        "\n",
        "# Contoh Penggunaan\n",
        "browser = BrowserHistory()\n",
        "browser.visit(\"www.google.com\")\n",
        "browser.visit(\"www.youtube.com\")\n",
        "browser.visit(\"www.github.com\")\n",
        "\n",
        "browser.back()\n",
        "browser.back()"
      ],
      "metadata": {
        "id": "8wUEBDM96OMc",
        "colab": {
          "base_uri": "https://localhost:8080/"
        },
        "outputId": "5e7b5234-72eb-4899-f128-c46d58bfc218"
      },
      "execution_count": 5,
      "outputs": [
        {
          "output_type": "stream",
          "name": "stdout",
          "text": [
            "Mengunjungi: www.google.com\n",
            "Mengunjungi: www.youtube.com\n",
            "Mengunjungi: www.github.com\n",
            "Kembali ke: www.github.com\n",
            "Kembali ke: www.youtube.com\n"
          ]
        }
      ]
    },
    {
      "cell_type": "markdown",
      "source": [
        "Latihan 2"
      ],
      "metadata": {
        "id": "mXeqCk9ygxs1"
      }
    },
    {
      "cell_type": "code",
      "source": [
        "from collections import deque\n",
        "\n",
        "class NavigasiAplikasi:\n",
        "    def __init__(self):\n",
        "        self.riwayat = deque()\n",
        "\n",
        "    def kunjungi(self, fitur):\n",
        "        self.riwayat.append(fitur)\n",
        "        print(f\"Masuk ke fitur: {fitur}\")\n",
        "\n",
        "    def kembali(self):\n",
        "        if len(self.riwayat) > 1:\n",
        "            self.riwayat.pop()\n",
        "            print(f\"Kembali ke fitur: {self.riwayat[-1]}\")\n",
        "        else:\n",
        "            print(\"Tidak ada fitur sebelumnya!\")\n",
        "\n",
        "def validasi_input(prompt):\n",
        "    while True:\n",
        "        try:\n",
        "            return int(input(prompt))\n",
        "        except ValueError:\n",
        "            print(\"Input harus berupa angka!\")\n",
        "\n",
        "aplikasi = NavigasiAplikasi()\n",
        "aplikasi.kunjungi(\"Beranda\")\n",
        "\n",
        "print(\"\\nSelamat datang di aplikasi! Berikut ini adalah fitur yang tersedia:\")\n",
        "print(\"1. Beranda\")\n",
        "print(\"2. J25\")\n",
        "print(\"3. Pengaturan\")\n",
        "print(\"4. Kembali\")\n",
        "print(\"5. Keluar\")\n",
        "\n",
        "while True:\n",
        "    pilihan = validasi_input(\"\\nSilahkan masukkan pilihan anda: \")\n",
        "\n",
        "    if pilihan == 1:\n",
        "        aplikasi.kunjungi(\"Beranda\")\n",
        "    elif pilihan == 2:\n",
        "        aplikasi.kunjungi(\"J25\")\n",
        "    elif pilihan == 3:\n",
        "        aplikasi.kunjungi(\"Pengaturan\")\n",
        "    elif pilihan == 4:\n",
        "        aplikasi.kembali()\n",
        "    elif pilihan == 5:\n",
        "        print(\"Terima kasih telah menggunakan program ini! 🥰\")\n",
        "        break\n",
        "    else:\n",
        "        print(\"Pilihan tidak valid!\")\n"
      ],
      "metadata": {
        "colab": {
          "base_uri": "https://localhost:8080/"
        },
        "id": "l5AFTaRbgwJk",
        "outputId": "7113ed4a-4caf-4f82-8a43-7739011c18d6"
      },
      "execution_count": 7,
      "outputs": [
        {
          "output_type": "stream",
          "name": "stdout",
          "text": [
            "Masuk ke fitur: Beranda\n",
            "\n",
            "Selamat datang di aplikasi! Berikut ini adalah fitur yang tersedia:\n",
            "1. Beranda\n",
            "2. J25\n",
            "3. Pengaturan\n",
            "4. Kembali\n",
            "5. Keluar\n",
            "\n",
            "Silahkan masukkan pilihan anda: 2\n",
            "Masuk ke fitur: J25\n",
            "\n",
            "Silahkan masukkan pilihan anda: 1\n",
            "Masuk ke fitur: Beranda\n",
            "\n",
            "Silahkan masukkan pilihan anda: 3\n",
            "Masuk ke fitur: Pengaturan\n",
            "\n",
            "Silahkan masukkan pilihan anda: 4\n",
            "Kembali ke fitur: Beranda\n",
            "\n",
            "Silahkan masukkan pilihan anda: 5\n",
            "Terima kasih telah menggunakan program ini! 🥰\n"
          ]
        }
      ]
    },
    {
      "cell_type": "markdown",
      "source": [
        "Implementasi Satck dengan queue.LifoQueue - Sistem Pencadangan File"
      ],
      "metadata": {
        "id": "YoQEdkLx6RAM"
      }
    },
    {
      "cell_type": "code",
      "source": [
        "from queue import LifoQueue\n",
        "\n",
        "class BackupSystem:\n",
        "  def __init__(self):\n",
        "    self.backups = LifoQueue()\n",
        "\n",
        "  def backup(self,version):\n",
        "    self.backups.put(version)\n",
        "\n",
        "  def latest_backup(self):\n",
        "    if not self.backups.empty():\n",
        "      return f\"Versi terbaru: {self.backups.queue[-1]}\"\n",
        "    return \"Tidak ada cadangan!\"\n",
        "\n",
        "# Contoh penggunaan\n",
        "backup_system = BackupSystem()\n",
        "backup_system.backup(\"Versi 1\")\n",
        "backup_system.backup(\"Versi 2\")\n",
        "backup_system.backup(\"Versi 3\")\n",
        "\n",
        "print(backup_system.latest_backup())"
      ],
      "metadata": {
        "colab": {
          "base_uri": "https://localhost:8080/"
        },
        "id": "VVC2p6FQ6T8l",
        "outputId": "dfccd329-54f4-451e-e8a5-3ddb15a92580"
      },
      "execution_count": 8,
      "outputs": [
        {
          "output_type": "stream",
          "name": "stdout",
          "text": [
            "Versi terbaru: Versi 3\n"
          ]
        }
      ]
    },
    {
      "cell_type": "markdown",
      "source": [
        "Latihan 3"
      ],
      "metadata": {
        "id": "bvOMpIzQs1n4"
      }
    },
    {
      "cell_type": "code",
      "source": [
        "from queue import LifoQueue\n",
        "\n",
        "class PenyimpananDraft:\n",
        "    def __init__(self):\n",
        "        self.draft_email = LifoQueue()\n",
        "\n",
        "    def simpan_draft(self, subjek, isi):\n",
        "        draft = {\"subjek\": subjek, \"isi\": isi}\n",
        "        self.draft_email.put(draft)\n",
        "        print(f\"Draft '{subjek}' berhasil disimpan!\")\n",
        "\n",
        "    def lihat_draft_terakhir(self):\n",
        "        if not self.draft_email.empty():\n",
        "            draft_terbaru = self.draft_email.queue[-1]\n",
        "            return f\"\\n📩 Draft Terbaru:\\nSubjek: {draft_terbaru['subjek']}\\nIsi: {draft_terbaru['isi']}\"\n",
        "        return \"❌ Tidak ada draft yang tersimpan!\"\n",
        "\n",
        "    def hapus_draft_terakhir(self):\n",
        "        if not self.draft_email.empty():\n",
        "            draft_terhapus = self.draft_email.get()\n",
        "            return f\"✅ Draft '{draft_terhapus['subjek']}' telah dihapus.\"\n",
        "        return \"❌ Tidak ada draft yang bisa dihapus!\"\n",
        "\n",
        "def buat_subjek():\n",
        "    nama = input(\"Masukkan Nama Mahasiswa: \").strip()\n",
        "    npm = input(\"Masukkan NPM: \").strip()\n",
        "\n",
        "    if len(nama) < 2 or len(npm) < 2:\n",
        "        print(\"❌ Nama minimal 2 huruf dan NPM minimal 2 digit!\")\n",
        "        return buat_subjek()\n",
        "\n",
        "    subjek = nama[:2].upper() + npm[-2:]\n",
        "    return subjek\n",
        "\n",
        "penyimpanan = PenyimpananDraft()\n",
        "\n",
        "print(\"Selamat datang di Penyimpanan Draft Email!\")\n",
        "while True:\n",
        "  print(\"Masukkan pilihan opsi: \")\n",
        "  print(\"1. Simpan Draft\")\n",
        "  print(\"2. Lihat Draft Terakhir\")\n",
        "  print(\"3. Hapus Draft Terakhir\")\n",
        "  print(\"4. Keluar\")\n",
        "\n",
        "  pilihan = input(\"Masukkan pilihan (1-4): \")\n",
        "\n",
        "  if pilihan == \"1\":\n",
        "    draft = int(input(\"Berapa email yang akan disimpan: \"))\n",
        "    for i in range(draft):\n",
        "      print(f\"\\n📝 Draft Email ke-{i+1}\")\n",
        "      subjek = buat_subjek()\n",
        "      isi = input(\"Masukkan Isi Email: \").strip()\n",
        "      penyimpanan.simpan_draft(subjek, isi)\n",
        "  elif pilihan == \"2\":\n",
        "    print(penyimpanan.lihat_draft_terakhir())\n",
        "  elif pilihan == \"3\":\n",
        "    print(penyimpanan.hapus_draft_terakhir())\n",
        "  elif pilihan == \"4\":\n",
        "    print(\"Terima kasih telah menggunakan program ini! 🥰\")\n",
        "    break\n",
        "\n",
        "\n",
        "\n"
      ],
      "metadata": {
        "colab": {
          "base_uri": "https://localhost:8080/"
        },
        "id": "IksxQgrns4Xl",
        "outputId": "e2b1b68d-bd6f-4196-ccf0-71413fbf2e3f"
      },
      "execution_count": 10,
      "outputs": [
        {
          "output_type": "stream",
          "name": "stdout",
          "text": [
            "Selamat datang di Penyimpanan Draft Email!\n",
            "Masukkan pilihan opsi: \n",
            "1. Simpan Draft\n",
            "2. Lihat Draft Terakhir\n",
            "3. Hapus Draft Terakhir\n",
            "4. Keluar\n",
            "Masukkan pilihan (1-4): 1\n",
            "Berapa email yang akan disimpan: 3\n",
            "\n",
            "📝 Draft Email ke-1\n",
            "Masukkan Nama Mahasiswa: Achmad Chanif\n",
            "Masukkan NPM: 2420506025\n",
            "Masukkan Isi Email: Pengajuan Proposal\n",
            "Draft 'AC25' berhasil disimpan!\n",
            "\n",
            "📝 Draft Email ke-2\n",
            "Masukkan Nama Mahasiswa: Mahesa\n",
            "Masukkan NPM: 2420506080\n",
            "Masukkan Isi Email: Permohonan Ijin\n",
            "Draft 'MA80' berhasil disimpan!\n",
            "\n",
            "📝 Draft Email ke-3\n",
            "Masukkan Nama Mahasiswa: Yusuf\n",
            "Masukkan NPM: 2420506099\n",
            "Masukkan Isi Email: Rekap Nilai \n",
            "Draft 'YU99' berhasil disimpan!\n",
            "Masukkan pilihan opsi: \n",
            "1. Simpan Draft\n",
            "2. Lihat Draft Terakhir\n",
            "3. Hapus Draft Terakhir\n",
            "4. Keluar\n",
            "Masukkan pilihan (1-4): 2\n",
            "\n",
            "📩 Draft Terbaru:\n",
            "Subjek: YU99\n",
            "Isi: Rekap Nilai\n",
            "Masukkan pilihan opsi: \n",
            "1. Simpan Draft\n",
            "2. Lihat Draft Terakhir\n",
            "3. Hapus Draft Terakhir\n",
            "4. Keluar\n",
            "Masukkan pilihan (1-4): 4\n",
            "Terima kasih telah menggunakan program ini! 🥰\n"
          ]
        }
      ]
    },
    {
      "cell_type": "markdown",
      "source": [
        "Implementasi Stack denagn OOP - Manajemen Antrian Pelanggan"
      ],
      "metadata": {
        "id": "2Jbn_jO_6zFY"
      }
    },
    {
      "cell_type": "code",
      "source": [
        "class CustomerService:\n",
        "  def __init__(self):\n",
        "    self.tickets = []\n",
        "\n",
        "  def add_ticket(self, ticket):\n",
        "    self.tickets.append(ticket)\n",
        "\n",
        "  def process_ticket(self):\n",
        "    if not self.is_empty():\n",
        "      return f\"Memproses tiket: {self.tickets.pop()}\"\n",
        "    return \"Tidak ada tiket yang harus diproses.\"\n",
        "\n",
        "  def is_empty(self):\n",
        "    return len(self.tickets) == 0\n",
        "\n",
        "# Contoh Penggunaan\n",
        "service = CustomerService()\n",
        "service.add_ticket(\"Tiket 001\")\n",
        "service.add_ticket(\"Tiket 002\")\n",
        "\n",
        "print(service.process_ticket())\n",
        "print(service.is_empty())"
      ],
      "metadata": {
        "id": "-QEo8kVq6WOm",
        "colab": {
          "base_uri": "https://localhost:8080/"
        },
        "outputId": "b8f38a54-0fb1-4bf2-e002-6ada35219f7e"
      },
      "execution_count": 11,
      "outputs": [
        {
          "output_type": "stream",
          "name": "stdout",
          "text": [
            "Memproses tiket: Tiket 002\n",
            "False\n"
          ]
        }
      ]
    },
    {
      "cell_type": "markdown",
      "source": [
        "Latihan 4"
      ],
      "metadata": {
        "id": "qQEMkpApvwHw"
      }
    },
    {
      "cell_type": "code",
      "source": [
        "class AntreanTiketBioskop:\n",
        "    def __init__(self):\n",
        "        self.antrean = []  # Stack untuk menyimpan tiket pelanggan\n",
        "\n",
        "    def beli_tiket(self, nama, film):\n",
        "        tiket = {\"nama\": nama, \"film\": film}\n",
        "        self.antrean.append(tiket)\n",
        "        print(f\"🎟️ Tiket untuk {nama} ({film}) berhasil dibeli!\")\n",
        "\n",
        "    def lihat_tiket_terakhir(self):\n",
        "        if not self.is_empty():\n",
        "            tiket_terakhir = self.antrean[-1]\n",
        "            return f\"\\n📢 Tiket Terakhir:\\nNama: {tiket_terakhir['nama']}\\nFilm: {tiket_terakhir['film']}\"\n",
        "        return \"❌ Tidak ada tiket dalam antrean!\"\n",
        "\n",
        "    def proses_tiket(self):\n",
        "        if not self.is_empty():\n",
        "            tiket_diproses = self.antrean.pop()\n",
        "            return f\"✅ Tiket untuk {tiket_diproses['nama']} ({tiket_diproses['film']}) telah diproses!\"\n",
        "        return \"❌ Tidak ada tiket yang harus diproses.\"\n",
        "\n",
        "    def is_empty(self):\n",
        "        return len(self.antrean) == 0\n",
        "\n",
        "\n",
        "# Program utama\n",
        "bioskop = AntreanTiketBioskop()\n",
        "\n",
        "print(\"🎬 Selamat datang di Sistem Antrean Tiket Bioskop 🎬\")\n",
        "\n",
        "while True:\n",
        "    print(\"\\nPilih opsi:\")\n",
        "    print(\"1. Beli Tiket\")\n",
        "    print(\"2. Lihat Tiket Terakhir\")\n",
        "    print(\"3. Proses Tiket\")\n",
        "    print(\"4. Keluar\")\n",
        "\n",
        "    pilihan = input(\"Masukkan pilihan (1-4): \").strip()\n",
        "\n",
        "    if pilihan == \"1\":\n",
        "        nama = input(\"Masukkan nama pelanggan: \").strip()\n",
        "        film = input(\"Masukkan nama film: \").strip()\n",
        "        bioskop.beli_tiket(nama, film)\n",
        "\n",
        "    elif pilihan == \"2\":\n",
        "        print(bioskop.lihat_tiket_terakhir())\n",
        "\n",
        "    elif pilihan == \"3\":\n",
        "        print(bioskop.proses_tiket())\n",
        "\n",
        "    elif pilihan == \"4\":\n",
        "        print(\"👋 Terima kasih telah menggunakan sistem antrean tiket bioskop. Sampai jumpa!\")\n",
        "        break\n",
        "\n",
        "    else:\n",
        "        print(\"❌ Pilihan tidak valid, silakan coba lagi!\")\n"
      ],
      "metadata": {
        "colab": {
          "base_uri": "https://localhost:8080/"
        },
        "id": "N0ouFZbyvxP5",
        "outputId": "d2ef9fd4-3ac4-49d0-a720-9856bee4051e"
      },
      "execution_count": 12,
      "outputs": [
        {
          "output_type": "stream",
          "name": "stdout",
          "text": [
            "🎬 Selamat datang di Sistem Antrean Tiket Bioskop 🎬\n",
            "\n",
            "Pilih opsi:\n",
            "1. Beli Tiket\n",
            "2. Lihat Tiket Terakhir\n",
            "3. Proses Tiket\n",
            "4. Keluar\n",
            "Masukkan pilihan (1-4): 1\n",
            "Masukkan nama pelanggan: Chanif\n",
            "Masukkan nama film: J25\n",
            "🎟️ Tiket untuk Chanif (J25) berhasil dibeli!\n",
            "\n",
            "Pilih opsi:\n",
            "1. Beli Tiket\n",
            "2. Lihat Tiket Terakhir\n",
            "3. Proses Tiket\n",
            "4. Keluar\n",
            "Masukkan pilihan (1-4): 1\n",
            "Masukkan nama pelanggan: Yusuf\n",
            "Masukkan nama film: J25\n",
            "🎟️ Tiket untuk Yusuf (J25) berhasil dibeli!\n",
            "\n",
            "Pilih opsi:\n",
            "1. Beli Tiket\n",
            "2. Lihat Tiket Terakhir\n",
            "3. Proses Tiket\n",
            "4. Keluar\n",
            "Masukkan pilihan (1-4): 1\n",
            "Masukkan nama pelanggan: Mahesa\n",
            "Masukkan nama film: J25\n",
            "🎟️ Tiket untuk Mahesa (J25) berhasil dibeli!\n",
            "\n",
            "Pilih opsi:\n",
            "1. Beli Tiket\n",
            "2. Lihat Tiket Terakhir\n",
            "3. Proses Tiket\n",
            "4. Keluar\n",
            "Masukkan pilihan (1-4): 3\n",
            "✅ Tiket untuk Mahesa (J25) telah diproses!\n",
            "\n",
            "Pilih opsi:\n",
            "1. Beli Tiket\n",
            "2. Lihat Tiket Terakhir\n",
            "3. Proses Tiket\n",
            "4. Keluar\n",
            "Masukkan pilihan (1-4): 3\n",
            "✅ Tiket untuk Yusuf (J25) telah diproses!\n",
            "\n",
            "Pilih opsi:\n",
            "1. Beli Tiket\n",
            "2. Lihat Tiket Terakhir\n",
            "3. Proses Tiket\n",
            "4. Keluar\n",
            "Masukkan pilihan (1-4): 3\n",
            "✅ Tiket untuk Chanif (J25) telah diproses!\n",
            "\n",
            "Pilih opsi:\n",
            "1. Beli Tiket\n",
            "2. Lihat Tiket Terakhir\n",
            "3. Proses Tiket\n",
            "4. Keluar\n",
            "Masukkan pilihan (1-4): 4\n",
            "👋 Terima kasih telah menggunakan sistem antrean tiket bioskop. Sampai jumpa!\n"
          ]
        }
      ]
    },
    {
      "cell_type": "markdown",
      "source": [
        "Tugas"
      ],
      "metadata": {
        "id": "zV4rwkiYCjGW"
      }
    },
    {
      "cell_type": "code",
      "source": [
        "class ManajerGudang:\n",
        "    def __init__(self, kapasitas):\n",
        "        self.kapasitas = kapasitas\n",
        "        self.gudang = []\n",
        "\n",
        "    def tambah_barang(self, barang):\n",
        "        if len(self.gudang) < self.kapasitas:\n",
        "            self.gudang.append(barang)\n",
        "            print(f\"✅ {barang} berhasil ditambahkan ke gudang!\")\n",
        "        else:\n",
        "            print(\"❌ Gudang sudah penuh! Tidak bisa menambahkan barang lagi.\")\n",
        "\n",
        "    def ambil_barang(self):\n",
        "        if self.gudang:\n",
        "            barang = self.gudang.pop()\n",
        "            print(f\"📦 {barang} telah diambil dari gudang.\")\n",
        "        else:\n",
        "            print(\"❌ Gudang kosong! Tidak ada barang yang bisa diambil.\")\n",
        "\n",
        "    def tampilkan_gudang(self):\n",
        "        if self.gudang:\n",
        "            print(\"\\n📋 **Isi Gudang Saat Ini:**\")\n",
        "            for i, barang in enumerate(reversed(self.gudang), 1):\n",
        "                print(f\"{i}. {barang}\")\n",
        "        else:\n",
        "            print(\"\\n⚠️ Gudang kosong!\")\n",
        "\n",
        "# Program Utama\n",
        "print(\"📦 Selamat datang di game Manajer Gudang!\")\n",
        "\n",
        "# Menentukan kapasitas gudang\n",
        "while True:\n",
        "    try:\n",
        "        kapasitas = int(input(\"Masukkan kapasitas gudang: \"))\n",
        "        if kapasitas > 0:\n",
        "            break\n",
        "        print(\"❌ Kapasitas harus lebih dari 0!\")\n",
        "    except ValueError:\n",
        "        print(\"❌ Masukkan angka yang valid!\")\n",
        "\n",
        "gudang = ManajerGudang(kapasitas)\n",
        "\n",
        "# Menu interaktif\n",
        "while True:\n",
        "    print(\"\\n📌 **Pilih Aksi:**\")\n",
        "    print(\"1. Tambah Barang\")\n",
        "    print(\"2. Ambil Barang\")\n",
        "    print(\"3. Lihat Isi Gudang\")\n",
        "    print(\"4. Keluar\")\n",
        "\n",
        "    pilihan = input(\"Masukkan pilihan (1-4): \").strip()\n",
        "\n",
        "    if pilihan == \"1\":\n",
        "        barang = input(\"Masukkan nama barang: \").strip()\n",
        "        gudang.tambah_barang(barang)\n",
        "    elif pilihan == \"2\":\n",
        "        gudang.ambil_barang()\n",
        "    elif pilihan == \"3\":\n",
        "        gudang.tampilkan_gudang()\n",
        "    elif pilihan == \"4\":\n",
        "        print(\"👋 Terima kasih telah bermain! Sampai jumpa lagi.\")\n",
        "        break\n",
        "    else:\n",
        "        print(\"❌ Pilihan tidak valid! Masukkan angka 1-4.\")\n"
      ],
      "metadata": {
        "id": "PGmeZK01wbzJ",
        "colab": {
          "base_uri": "https://localhost:8080/"
        },
        "outputId": "f021159e-2380-4e46-fc15-eb6c040b7143"
      },
      "execution_count": 2,
      "outputs": [
        {
          "output_type": "stream",
          "name": "stdout",
          "text": [
            "📦 Selamat datang di game Manajer Gudang!\n",
            "\n",
            "📌 **Pilih Aksi:**\n",
            "1. Tambah Barang\n",
            "2. Ambil Barang\n",
            "3. Lihat Isi Gudang\n",
            "4. Keluar\n",
            "✅ Monitor berhasil ditambahkan ke gudang!\n",
            "\n",
            "📌 **Pilih Aksi:**\n",
            "1. Tambah Barang\n",
            "2. Ambil Barang\n",
            "3. Lihat Isi Gudang\n",
            "4. Keluar\n",
            "✅ CPU berhasil ditambahkan ke gudang!\n",
            "\n",
            "📌 **Pilih Aksi:**\n",
            "1. Tambah Barang\n",
            "2. Ambil Barang\n",
            "3. Lihat Isi Gudang\n",
            "4. Keluar\n",
            "✅ Meja Komputer berhasil ditambahkan ke gudang!\n",
            "\n",
            "📌 **Pilih Aksi:**\n",
            "1. Tambah Barang\n",
            "2. Ambil Barang\n",
            "3. Lihat Isi Gudang\n",
            "4. Keluar\n",
            "\n",
            "📋 **Isi Gudang Saat Ini:**\n",
            "1. Meja Komputer\n",
            "2. CPU\n",
            "3. Monitor\n",
            "\n",
            "📌 **Pilih Aksi:**\n",
            "1. Tambah Barang\n",
            "2. Ambil Barang\n",
            "3. Lihat Isi Gudang\n",
            "4. Keluar\n",
            "📦 Meja Komputer telah diambil dari gudang.\n",
            "\n",
            "📌 **Pilih Aksi:**\n",
            "1. Tambah Barang\n",
            "2. Ambil Barang\n",
            "3. Lihat Isi Gudang\n",
            "4. Keluar\n",
            "\n",
            "📋 **Isi Gudang Saat Ini:**\n",
            "1. CPU\n",
            "2. Monitor\n",
            "\n",
            "📌 **Pilih Aksi:**\n",
            "1. Tambah Barang\n",
            "2. Ambil Barang\n",
            "3. Lihat Isi Gudang\n",
            "4. Keluar\n",
            "Masukkan pilihan (1-4): 4\n",
            "👋 Terima kasih telah bermain! Sampai jumpa lagi.\n"
          ]
        }
      ]
    },
    {
      "cell_type": "code",
      "source": [],
      "metadata": {
        "id": "__U-f6JaC3jN"
      },
      "execution_count": null,
      "outputs": []
    }
  ]
}