{
  "nbformat": 4,
  "nbformat_minor": 0,
  "metadata": {
    "colab": {
      "provenance": [],
      "authorship_tag": "ABX9TyNAPKwuB1/jbSkMBwTE9ffF",
      "include_colab_link": true
    },
    "kernelspec": {
      "name": "python3",
      "display_name": "Python 3"
    },
    "language_info": {
      "name": "python"
    }
  },
  "cells": [
    {
      "cell_type": "markdown",
      "metadata": {
        "id": "view-in-github",
        "colab_type": "text"
      },
      "source": [
        "<a href=\"https://colab.research.google.com/github/Chanifg/StrukturData/blob/main/Tugas_%7C_Week_7.ipynb\" target=\"_parent\"><img src=\"https://colab.research.google.com/assets/colab-badge.svg\" alt=\"Open In Colab\"/></a>"
      ]
    },
    {
      "cell_type": "markdown",
      "source": [
        "Tugas 1"
      ],
      "metadata": {
        "id": "zLtyGYAbknyU"
      }
    },
    {
      "cell_type": "code",
      "execution_count": 1,
      "metadata": {
        "colab": {
          "base_uri": "https://localhost:8080/"
        },
        "id": "8GJBqIaifDeG",
        "outputId": "162ed371-a6ee-4da8-ccd3-8c56569e4f20"
      },
      "outputs": [
        {
          "output_type": "stream",
          "name": "stdout",
          "text": [
            "Inorder traversal dari tree:\n",
            "7 8 23 25 4 "
          ]
        }
      ],
      "source": [
        "class Node:\n",
        "    def __init__(self, data):\n",
        "        self.data = data\n",
        "        self.left = None\n",
        "        self.right = None\n",
        "\n",
        "# Fungsi Innorder Traversal\n",
        "def inorder(node):\n",
        "    if node:\n",
        "      inorder(node.left)\n",
        "      print(node.data, end=' ')\n",
        "      inorder(node.right)\n",
        "\n",
        "# Struktur Tree berdasarkan identitas saya.\n",
        "root = Node(23)\n",
        "root.left = Node(8)\n",
        "root.right = Node(25)\n",
        "root.left.left = Node(7)\n",
        "root.right.right = Node(4)\n",
        "\n",
        "# Menampilkan inorder traversal\n",
        "print(\"Inorder traversal dari tree:\")\n",
        "inorder(root)"
      ]
    },
    {
      "cell_type": "markdown",
      "source": [
        "Tugas 2"
      ],
      "metadata": {
        "id": "Lbv8-HkFlKtH"
      }
    },
    {
      "cell_type": "code",
      "source": [
        "# Kelas simpul (node) untuk BST\n",
        "class Node:\n",
        "    def __init__(self, key):\n",
        "        self.left = None\n",
        "        self.right = None\n",
        "        self.val = key\n",
        "\n",
        "# Fungsi untuk menyisipkan angka ke BST\n",
        "def insert(root, key):\n",
        "    if root is None:\n",
        "        return Node(key)\n",
        "    if key < root.val:\n",
        "        root.left = insert(root.left, key)\n",
        "    else:\n",
        "        root.right = insert(root.right, key)\n",
        "    return root\n",
        "\n",
        "# Fungsi traversal inorder\n",
        "def inorder(root):\n",
        "    if root:\n",
        "        inorder(root.left)\n",
        "        print(root.val, end=' ')\n",
        "        inorder(root.right)\n",
        "\n",
        "# Fungsi traversal preorder\n",
        "def preorder(root):\n",
        "    if root:\n",
        "        print(root.val, end=' ')\n",
        "        preorder(root.left)\n",
        "        preorder(root.right)\n",
        "\n",
        "# Fungsi traversal postorder\n",
        "def postorder(root):\n",
        "    if root:\n",
        "        postorder(root.left)\n",
        "        postorder(root.right)\n",
        "        print(root.val, end=' ')\n",
        "\n",
        "# Fungsi pencarian di BST\n",
        "def search(root, key):\n",
        "    if root is None:\n",
        "        return False\n",
        "    if root.val == key:\n",
        "        return True\n",
        "    elif key < root.val:\n",
        "        return search(root.left, key)\n",
        "    else:\n",
        "        return search(root.right, key)\n",
        "\n",
        "# Daftar angka yang akan dimasukkan ke BST\n",
        "data = [25, 9, 7, 65, 67, 1, 19]\n",
        "\n",
        "# Membentuk BST dari data\n",
        "bst_root = None\n",
        "for num in data:\n",
        "    bst_root = insert(bst_root, num)\n",
        "\n",
        "# Menampilkan hasil traversal\n",
        "print(\"Inorder Traversal  : \", end='')\n",
        "inorder(bst_root)\n",
        "print(\"\\nPreorder Traversal : \", end='')\n",
        "preorder(bst_root)\n",
        "print(\"\\nPostorder Traversal: \", end='')\n",
        "postorder(bst_root)\n",
        "\n",
        "# Pencarian angka\n",
        "print(\"\\n\\nPencarian angka 25:\")\n",
        "print(\"Ditemukan\" if search(bst_root, 25) else \"Tidak ditemukan\")\n",
        "\n",
        "print(\"Pencarian angka 99):\")\n",
        "print(\"Ditemukan\" if search(bst_root, 99) else \"Tidak ditemukan\")\n"
      ],
      "metadata": {
        "id": "uyHTswYfg0cv",
        "colab": {
          "base_uri": "https://localhost:8080/"
        },
        "outputId": "266ff884-0671-46ec-ff99-76bfe05219be"
      },
      "execution_count": 2,
      "outputs": [
        {
          "output_type": "stream",
          "name": "stdout",
          "text": [
            "Inorder Traversal  : 1 7 9 19 25 65 67 \n",
            "Preorder Traversal : 25 9 7 1 19 65 67 \n",
            "Postorder Traversal: 1 7 19 9 67 65 25 \n",
            "\n",
            "Pencarian angka 25 (dua digit terakhir NPM):\n",
            "Ditemukan\n",
            "Pencarian angka 99 (tidak termasuk dalam daftar):\n",
            "Tidak ditemukan\n"
          ]
        }
      ]
    },
    {
      "cell_type": "code",
      "source": [],
      "metadata": {
        "id": "QzDgpD7pjCmN"
      },
      "execution_count": null,
      "outputs": []
    }
  ]
}