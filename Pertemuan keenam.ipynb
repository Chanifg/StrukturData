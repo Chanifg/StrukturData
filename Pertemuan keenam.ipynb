{
  "nbformat": 4,
  "nbformat_minor": 0,
  "metadata": {
    "colab": {
      "provenance": []
    },
    "kernelspec": {
      "name": "python3",
      "display_name": "Python 3"
    },
    "language_info": {
      "name": "python"
    }
  },
  "cells": [
    {
      "cell_type": "markdown",
      "source": [
        "# Implementasi Buble Sort"
      ],
      "metadata": {
        "id": "qQnB_P-3vAv9"
      }
    },
    {
      "cell_type": "code",
      "execution_count": null,
      "metadata": {
        "colab": {
          "base_uri": "https://localhost:8080/"
        },
        "id": "7cCmGV1Rtfg3",
        "outputId": "d6187836-77bc-4f11-b2fd-547770220e95"
      },
      "outputs": [
        {
          "output_type": "stream",
          "name": "stdout",
          "text": [
            "Data sebelum sorting: [64, 34, 25, 12, 22, 11]\n",
            "Data yang telah diurutkan: [11, 12, 22, 25, 34, 64]\n"
          ]
        }
      ],
      "source": [
        "def bubble_sort(arr):\n",
        "    n = len(arr)\n",
        "    for i in range(n -1):\n",
        "        for j in range(n - i - 1):\n",
        "            if arr[j] > arr [j + 1]:\n",
        "                arr[j], arr[j + 1] = arr[j + 1], arr[j]\n",
        "    return arr\n",
        "# Contoh penggunaan\n",
        "data = [64, 34, 25, 12, 22, 11]\n",
        "sorted_data = bubble_sort(data.copy()) # Menggunakan copy agar data asli tidak berubah\n",
        "print(\"Data sebelum sorting:\", data)\n",
        "print(\"Data yang telah diurutkan:\", sorted_data)"
      ]
    },
    {
      "cell_type": "markdown",
      "source": [
        "# Implementasi Selection Sort"
      ],
      "metadata": {
        "id": "02mBEE8MwCD1"
      }
    },
    {
      "cell_type": "code",
      "source": [
        "def selection_sort(arr):\n",
        "  n = len(arr)\n",
        "  for i in range(n - 1):\n",
        "      min_index = i\n",
        "      for j in range(i + 1, n):\n",
        "          if arr[j] < arr[min_index]:\n",
        "              min_index = j\n",
        "      arr[i], arr[min_index] = arr[min_index], arr[i]\n",
        "  return arr\n",
        "\n",
        "# Contoh penggunaan\n",
        "data = [64, 25, 12, 22, 11]\n",
        "sorted_data = selection_sort(data.copy())\n",
        "print(\"Data sebelum sorting: \", data)\n",
        "print(\"Data setelah Selection Sort: \", sorted_data)"
      ],
      "metadata": {
        "colab": {
          "base_uri": "https://localhost:8080/"
        },
        "id": "DfMVS1V3v5eX",
        "outputId": "c45c01f9-1261-4a72-df09-b8173c9be63a"
      },
      "execution_count": null,
      "outputs": [
        {
          "output_type": "stream",
          "name": "stdout",
          "text": [
            "Data sebelum sorting:  [64, 25, 12, 22, 11]\n",
            "Data setelah Selection Sort:  [11, 12, 22, 25, 64]\n"
          ]
        }
      ]
    },
    {
      "cell_type": "markdown",
      "source": [
        "# Implementasi Insertion Sort"
      ],
      "metadata": {
        "id": "zrjibJ7szoLF"
      }
    },
    {
      "cell_type": "code",
      "source": [
        "def insertion_sort(arr):\n",
        "  n = len(arr)\n",
        "  for i in range(1, n):\n",
        "      key = arr[i]\n",
        "      j = i - 1\n",
        "      while j >= 0 and arr[j] > key:\n",
        "          arr[j + 1] = arr[j]\n",
        "          j -= 1\n",
        "      arr[j + 1] = key\n",
        "  return arr\n",
        "\n",
        "# Contoh penggunaan\n",
        "data = [64, 34, 25, 12, 22, 11]\n",
        "sorted_data = insertion_sort(data.copy())\n",
        "print(\"Data sebelum sorting: \", data)\n",
        "print(\"Data setelah Insertion Sort: \", sorted_data)"
      ],
      "metadata": {
        "colab": {
          "base_uri": "https://localhost:8080/"
        },
        "id": "dEpaOFYPxIxY",
        "outputId": "5be82e65-3119-43f2-9fb5-bcdc0b688139"
      },
      "execution_count": null,
      "outputs": [
        {
          "output_type": "stream",
          "name": "stdout",
          "text": [
            "Data sebelum sorting:  [64, 34, 25, 12, 22, 11]\n",
            "Data setelah Insertion Sort:  [11, 12, 22, 25, 34, 64]\n"
          ]
        }
      ]
    },
    {
      "cell_type": "markdown",
      "source": [
        "# Implementasi Merge Sort"
      ],
      "metadata": {
        "id": "UphZ3hYkz9n1"
      }
    },
    {
      "cell_type": "code",
      "source": [
        "def merge_sort(arr):\n",
        "    if len(arr) > 1:\n",
        "        mid = len(arr) // 2\n",
        "        left_half = arr[:mid]\n",
        "        right_half = arr[mid:]\n",
        "\n",
        "        merge_sort(left_half)\n",
        "\n",
        "        merge_sort(right_half)\n",
        "        i = j = k = 0\n",
        "        while i < len(left_half) and j < len(right_half):\n",
        "            if left_half[i] < right_half[j]:\n",
        "                arr[k] = left_half[i]\n",
        "                i += 1\n",
        "            else:\n",
        "                arr[k] = right_half[j]\n",
        "                j += 1\n",
        "            k += 1\n",
        "\n",
        "        while i < len(left_half):\n",
        "            arr[k] = left_half[i]\n",
        "            i += 1\n",
        "            k += 1\n",
        "\n",
        "        while j < len(right_half):\n",
        "            arr[k] = right_half[j]\n",
        "            j += 1\n",
        "            k += 1\n",
        "\n",
        "    return arr\n",
        "\n",
        "# Contoh penggunaan\n",
        "data = [64, 25, 12, 22, 11]\n",
        "sorted_data = merge_sort(data.copy())\n",
        "print(\"Data sebelum sorting:\", data)\n",
        "print(\"Data setelah Merge Sort:\", sorted_data)"
      ],
      "metadata": {
        "colab": {
          "base_uri": "https://localhost:8080/"
        },
        "id": "SBym6zmkz8Qu",
        "outputId": "614ad7bf-3650-46bd-dbca-597d4d414e15"
      },
      "execution_count": 1,
      "outputs": [
        {
          "output_type": "stream",
          "name": "stdout",
          "text": [
            "Data sebelum sorting: [64, 25, 12, 22, 11]\n",
            "Data setelah Merge Sort: [11, 12, 22, 25, 64]\n"
          ]
        }
      ]
    },
    {
      "cell_type": "markdown",
      "source": [
        "# Implementasi Quick Sort"
      ],
      "metadata": {
        "id": "c83O1SYu0yrV"
      }
    },
    {
      "cell_type": "code",
      "source": [
        "def quick_sort(arr):\n",
        "    if len(arr) <= 1:\n",
        "        return arr\n",
        "\n",
        "    pivot = arr[len(arr) // 2]\n",
        "\n",
        "    left = [x for x in arr if x < pivot]\n",
        "    middle = [x for x in arr if x == pivot]\n",
        "    right = [x for x in arr if x > pivot]\n",
        "    return quick_sort(left) + middle + quick_sort(right)\n",
        "\n",
        "# Contoh penggunaan\n",
        "data = [64, 25, 12, 22, 11]\n",
        "sorted_data = quick_sort(data.copy())\n",
        "print(\"Data sebelum sorting:\", data)\n",
        "print(\"Data setelah Quick Sort:\", sorted_data)\n"
      ],
      "metadata": {
        "colab": {
          "base_uri": "https://localhost:8080/"
        },
        "id": "9pZHDKQ50_9p",
        "outputId": "969cdad6-05d5-4b2d-e1e9-2dac126d0c9a"
      },
      "execution_count": 3,
      "outputs": [
        {
          "output_type": "stream",
          "name": "stdout",
          "text": [
            "Data sebelum sorting: [64, 25, 12, 22, 11]\n",
            "Data setelah Quick Sort: [11, 12, 22, 25, 64]\n"
          ]
        }
      ]
    },
    {
      "cell_type": "markdown",
      "source": [
        "# Tugas"
      ],
      "metadata": {
        "id": "tJW_gAHzavyb"
      }
    },
    {
      "cell_type": "code",
      "source": [
        "def bubble_sort(arr, key, ascending=True):\n",
        "    arr = arr.copy()  # Salin data agar tidak mengubah aslinya\n",
        "    n = len(arr)\n",
        "    for i in range(n - 1):\n",
        "        for j in range(n - i - 1):\n",
        "            if (arr[j][key] > arr[j + 1][key]) == ascending:\n",
        "                arr[j], arr[j + 1] = arr[j + 1], arr[j]\n",
        "    return arr\n",
        "\n",
        "# Data produk\n",
        "produk = [\n",
        "    {\"nama\": \"Produk A\", \"harga\": 50000, \"rating\": 4.5},\n",
        "    {\"nama\": \"Produk B\", \"harga\": 30000, \"rating\": 4.8},\n",
        "    {\"nama\": \"Produk C\", \"harga\": 70000, \"rating\": 4.2},\n",
        "    {\"nama\": \"Produk D\", \"harga\": 20000, \"rating\": 4.9}\n",
        "]\n",
        "\n",
        "# Pilihan pengurutan\n",
        "print(\"\\nPilih metode pengurutan:\")\n",
        "print(\"1. Harga\")\n",
        "print(\"2. Rating\")\n",
        "metode = int(input(\"Masukkan pilihan (1/2): \"))\n",
        "\n",
        "# Menentukan key\n",
        "key = \"harga\" if metode == 1 else \"rating\"\n",
        "\n",
        "print(\"\\nPilih urutan pengurutan:\")\n",
        "print(\"1. Terendah ke Tertinggi\")\n",
        "print(\"2. Tertinggi ke Terendah\")\n",
        "urutan = int(input(\"Masukkan pilihan (1/2): \"))\n",
        "\n",
        "# Menentukan urutan\n",
        "ascending = True if urutan == 1 else False\n",
        "\n",
        "# Sorting tanpa mengubah data asli\n",
        "produk_terurut = bubble_sort(produk, key, ascending)\n",
        "\n",
        "# Output hasil\n",
        "print(\"\\nDaftar produk sebelum sorting:\")\n",
        "for p in produk:\n",
        "    print(f\"{p['nama']}: Harga {p['harga']}, Rating {p['rating']}\")\n",
        "print(\"\\nDaftar produk setelah sorting:\")\n",
        "for p in produk_terurut:\n",
        "    print(f\"{p['nama']}: Harga {p['harga']}, Rating {p['rating']}\")\n"
      ],
      "metadata": {
        "id": "-Nbit1Ki1l2H",
        "colab": {
          "base_uri": "https://localhost:8080/"
        },
        "outputId": "99796f7f-cefb-4d1d-e24c-bdc2f1f3a4a3"
      },
      "execution_count": 8,
      "outputs": [
        {
          "output_type": "stream",
          "name": "stdout",
          "text": [
            "\n",
            "Pilih metode pengurutan:\n",
            "1. Harga\n",
            "2. Rating\n",
            "Masukkan pilihan (1/2): 1\n",
            "\n",
            "Pilih urutan pengurutan:\n",
            "1. Terendah ke Tertinggi\n",
            "2. Tertinggi ke Terendah\n",
            "Masukkan pilihan (1/2): 2\n",
            "\n",
            "Daftar produk sebelum sorting:\n",
            "Produk A: Harga 50000, Rating 4.5\n",
            "Produk B: Harga 30000, Rating 4.8\n",
            "Produk C: Harga 70000, Rating 4.2\n",
            "Produk D: Harga 20000, Rating 4.9\n",
            "\n",
            "Daftar produk setelah sorting:\n",
            "Produk C: Harga 70000, Rating 4.2\n",
            "Produk A: Harga 50000, Rating 4.5\n",
            "Produk B: Harga 30000, Rating 4.8\n",
            "Produk D: Harga 20000, Rating 4.9\n"
          ]
        }
      ]
    },
    {
      "cell_type": "code",
      "source": [],
      "metadata": {
        "id": "wV6zKVXNaymo"
      },
      "execution_count": null,
      "outputs": []
    }
  ]
}