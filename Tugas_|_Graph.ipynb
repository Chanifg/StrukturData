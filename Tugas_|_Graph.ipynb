{
  "nbformat": 4,
  "nbformat_minor": 0,
  "metadata": {
    "colab": {
      "provenance": [],
      "authorship_tag": "ABX9TyOoJD0Kl87yaJ80EfgZIN99",
      "include_colab_link": true
    },
    "kernelspec": {
      "name": "python3",
      "display_name": "Python 3"
    },
    "language_info": {
      "name": "python"
    }
  },
  "cells": [
    {
      "cell_type": "markdown",
      "metadata": {
        "id": "view-in-github",
        "colab_type": "text"
      },
      "source": [
        "<a href=\"https://colab.research.google.com/github/Chanifg/StrukturData/blob/main/Tugas_%7C_Graph.ipynb\" target=\"_parent\"><img src=\"https://colab.research.google.com/assets/colab-badge.svg\" alt=\"Open In Colab\"/></a>"
      ]
    },
    {
      "cell_type": "markdown",
      "source": [
        "Tugas 1"
      ],
      "metadata": {
        "id": "xLOiNlc1p1xe"
      }
    },
    {
      "cell_type": "code",
      "execution_count": 8,
      "metadata": {
        "colab": {
          "base_uri": "https://localhost:8080/"
        },
        "id": "D-7ycoquooR7",
        "outputId": "8134b5b6-ba91-4b11-9be0-3f516f32d118"
      },
      "outputs": [
        {
          "output_type": "stream",
          "name": "stdout",
          "text": [
            "Representasi Graf Tak Berarah:\n",
            "A -> ['B', 'C']\n",
            "B -> ['A', 'C', 'D']\n",
            "C -> ['A', 'B', 'D', 'E']\n",
            "D -> ['B', 'C', 'E']\n",
            "E -> ['C', 'D']\n"
          ]
        }
      ],
      "source": [
        "graph = {\n",
        "    'A': ['B', 'C'],\n",
        "    'B': ['A', 'C', 'D'],\n",
        "    'C': ['A', 'B', 'D', 'E'],\n",
        "    'D': ['B', 'C', 'E'],\n",
        "    'E': ['C', 'D']\n",
        "}\n",
        "\n",
        "def print_graph(graph):\n",
        "    print(\"Representasi Graf Tak Berarah:\")\n",
        "    for simpul in graph:\n",
        "        print(f\"{simpul} -> {graph[simpul]}\")\n",
        "\n",
        "print_graph(graph)\n"
      ]
    },
    {
      "cell_type": "markdown",
      "source": [
        "Tugas 2"
      ],
      "metadata": {
        "id": "cMKYyXu0p79p"
      }
    },
    {
      "cell_type": "code",
      "source": [
        "from collections import deque\n",
        "\n",
        "def bfs(graph, start):\n",
        "    visited = set()\n",
        "    queue = deque([start])\n",
        "    print(\"BFS Traversal:\")\n",
        "    while queue:\n",
        "        node = queue.popleft()\n",
        "        if node not in visited:\n",
        "            print(node, end=' ')\n",
        "            visited.add(node)\n",
        "            queue.extend([n for n in graph[node] if n not in visited])\n",
        "    print()\n",
        "\n",
        "def dfs(graph, start, visited=None):\n",
        "    if visited is None:\n",
        "        visited = set()\n",
        "        print(\"DFS Traversal:\")\n",
        "    visited.add(start)\n",
        "    print(start, end=' ')\n",
        "    for neighbor in graph[start]:\n",
        "        if neighbor not in visited:\n",
        "            dfs(graph, neighbor, visited)\n",
        "\n",
        "bfs(graph, 'A')\n",
        "dfs(graph, 'A')\n"
      ],
      "metadata": {
        "colab": {
          "base_uri": "https://localhost:8080/"
        },
        "id": "zK3-1F1WpJGU",
        "outputId": "c4f6c1ba-fccc-4642-d28b-241e4fd9901c"
      },
      "execution_count": 10,
      "outputs": [
        {
          "output_type": "stream",
          "name": "stdout",
          "text": [
            "BFS Traversal:\n",
            "A B C D E \n",
            "DFS Traversal:\n",
            "A B C D E "
          ]
        }
      ]
    },
    {
      "cell_type": "markdown",
      "source": [
        "Tugas 3"
      ],
      "metadata": {
        "id": "zuYpScBwqLLm"
      }
    },
    {
      "cell_type": "code",
      "source": [
        "def bfs_list(graph, start):\n",
        "    visited = set()\n",
        "    queue = deque([start])\n",
        "    order = []\n",
        "    while queue:\n",
        "        node = queue.popleft()\n",
        "        if node not in visited:\n",
        "            visited.add(node)\n",
        "            order.append(node)\n",
        "            queue.extend([n for n in graph[node] if n not in visited])\n",
        "    return order\n",
        "\n",
        "# Memanggil hasil bfs\n",
        "hasil_bfs = bfs_list(graph, 'A')\n",
        "print(\"Urutan kunjungan (BFS sebagai list):\", hasil_bfs)\n"
      ],
      "metadata": {
        "colab": {
          "base_uri": "https://localhost:8080/"
        },
        "id": "_drm9komqFL2",
        "outputId": "777b2b83-1c8e-4e65-a711-ef09516ce722"
      },
      "execution_count": 11,
      "outputs": [
        {
          "output_type": "stream",
          "name": "stdout",
          "text": [
            "Urutan kunjungan (BFS sebagai list): ['A', 'B', 'C', 'D', 'E']\n"
          ]
        }
      ]
    },
    {
      "cell_type": "markdown",
      "source": [
        "Tugas 4"
      ],
      "metadata": {
        "id": "P-6U2igTqXrH"
      }
    },
    {
      "cell_type": "code",
      "source": [
        "def find_path(graph, start, end, path=None):\n",
        "    if path is None:\n",
        "        path = []\n",
        "    path = path + [start]\n",
        "\n",
        "    if start == end:\n",
        "        return path\n",
        "    if start not in graph:\n",
        "        return None\n",
        "    for neighbor in graph[start]:\n",
        "        if neighbor not in path:\n",
        "            newpath = find_path(graph, neighbor, end, path)\n",
        "            if newpath:\n",
        "                return newpath\n",
        "    return None\n",
        "\n",
        "path = find_path(graph, 'A', 'E')\n",
        "print(\"Satu jalur dari A ke E:\", path)\n"
      ],
      "metadata": {
        "colab": {
          "base_uri": "https://localhost:8080/"
        },
        "id": "EX1XbL8yqQb6",
        "outputId": "c72b93c4-0a89-46bb-f4db-03ddd5c42c1b"
      },
      "execution_count": 13,
      "outputs": [
        {
          "output_type": "stream",
          "name": "stdout",
          "text": [
            "Satu jalur dari A ke E: ['A', 'B', 'C', 'D', 'E']\n"
          ]
        }
      ]
    },
    {
      "cell_type": "markdown",
      "source": [
        "Tugas 5\n"
      ],
      "metadata": {
        "id": "ZBMDErorqjOG"
      }
    },
    {
      "cell_type": "code",
      "source": [
        "def is_connected(graph):\n",
        "    start = next(iter(graph))\n",
        "    visited = set()\n",
        "\n",
        "    def dfs_util(node):\n",
        "        visited.add(node)\n",
        "        for neighbor in graph[node]:\n",
        "            if neighbor not in visited:\n",
        "                dfs_util(neighbor)\n",
        "\n",
        "    dfs_util(start)\n",
        "    return len(visited) == len(graph)\n",
        "\n",
        "# Panggil dan cek apakah graf terhubung\n",
        "print(\"Apakah graf terhubung?\", is_connected(graph))"
      ],
      "metadata": {
        "colab": {
          "base_uri": "https://localhost:8080/"
        },
        "id": "7gvKLVe-qZba",
        "outputId": "0207de2c-2f16-4130-c89a-666bc44244ab"
      },
      "execution_count": 14,
      "outputs": [
        {
          "output_type": "stream",
          "name": "stdout",
          "text": [
            "Apakah graf terhubung? True\n"
          ]
        }
      ]
    },
    {
      "cell_type": "code",
      "source": [],
      "metadata": {
        "id": "LKJU4CagqltG"
      },
      "execution_count": null,
      "outputs": []
    }
  ]
}