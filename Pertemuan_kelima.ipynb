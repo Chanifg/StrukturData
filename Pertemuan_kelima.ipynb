{
  "nbformat": 4,
  "nbformat_minor": 0,
  "metadata": {
    "colab": {
      "provenance": []
    },
    "kernelspec": {
      "name": "python3",
      "display_name": "Python 3"
    },
    "language_info": {
      "name": "python"
    }
  },
  "cells": [
    {
      "cell_type": "markdown",
      "source": [
        "# Implementasi Linear Search"
      ],
      "metadata": {
        "id": "giHr53Pyppu3"
      }
    },
    {
      "cell_type": "code",
      "execution_count": null,
      "metadata": {
        "colab": {
          "base_uri": "https://localhost:8080/"
        },
        "id": "vGza3SCOotWh",
        "outputId": "d35d1691-ba84-4e6d-9773-1d37b1fc155a"
      },
      "outputs": [
        {
          "output_type": "stream",
          "name": "stdout",
          "text": [
            "Masukkan angka yang ingin dicari: 36\n",
            "Elemen ditemukan pada indeks 1\n"
          ]
        }
      ],
      "source": [
        "def linear_search(arr, target):\n",
        "    for  i in range(len(arr)):\n",
        "        if arr[i] == target:\n",
        "            return i\n",
        "    return -1\n",
        "\n",
        "arr = [25, 36, 68, 45, 66, 98, 77, 12, 13, 37]\n",
        "target = int(input(\"Masukkan angka yang ingin dicari: \"))\n",
        "\n",
        "result = linear_search(arr, target)\n",
        "\n",
        "if result != -1:\n",
        "  print(f\"Elemen ditemukan pada indeks {result}\")\n",
        "else:\n",
        "  print(\"Elemen tidak ditemukan\")"
      ]
    },
    {
      "cell_type": "markdown",
      "source": [
        "# Implementasi Binary Search"
      ],
      "metadata": {
        "id": "cccfwxRzra73"
      }
    },
    {
      "cell_type": "code",
      "source": [
        "def binary_search(arr, target):\n",
        "  low = 0\n",
        "  high = len(arr) - 1\n",
        "\n",
        "  while low <= high:\n",
        "    mid = (low + high) // 2\n",
        "    if arr[mid] == target:\n",
        "      return mid\n",
        "    elif arr[mid] < target:\n",
        "      low = mid + 1\n",
        "    else:\n",
        "      high = mid - 1\n",
        "  return -1\n",
        "\n",
        "arr = [907, 908, 909, 910, 911, 912, 913]\n",
        "target = int(input(\"Masukkan tanggal lahir anda: \"))\n",
        "\n",
        "result = binary_search(arr, target)\n",
        "\n",
        "if result != -1:\n",
        "  print(f\"Tanggal lahir anda ditemukan pada indeks {result}\")\n",
        "else:\n",
        "  print(\"Tanggal lahir anda tidak ditemukan\")"
      ],
      "metadata": {
        "colab": {
          "base_uri": "https://localhost:8080/"
        },
        "id": "T9FLwxFWq7d4",
        "outputId": "79f3e3dd-1618-42ac-d6c5-cb4282819db2"
      },
      "execution_count": null,
      "outputs": [
        {
          "output_type": "stream",
          "name": "stdout",
          "text": [
            "Masukkan tanggal lahir anda: 907\n",
            "Tanggal lahir anda ditemukan pada indeks 0\n"
          ]
        }
      ]
    },
    {
      "cell_type": "markdown",
      "source": [
        "# Implementasi Jump Seacrh"
      ],
      "metadata": {
        "id": "nJUhgDN7tNko"
      }
    },
    {
      "cell_type": "code",
      "source": [
        "import math\n",
        "\n",
        "def jump_search(arr, target):\n",
        "  n = len(arr)\n",
        "  step = int(math.sqrt(n))\n",
        "  prev = 0\n",
        "\n",
        "  while arr[min(step, n) - 1] < target:\n",
        "    prev = step\n",
        "    step += int(math.sqrt(n))\n",
        "    if prev >= n:\n",
        "      return -1\n",
        "\n",
        "  for i in range(prev, min(step, n)):\n",
        "    if arr[i] == target:\n",
        "      return i\n",
        "    return -1\n",
        "\n",
        "arr = [\"Agus\", \"Bagas\", \"Canti\", \"Dhea\", \"Endang\", \"Fafa\", \"Galang\", \"Husain\"]\n",
        "target = input(\"Masukkan inisial nama Anda: \")\n",
        "\n",
        "result = jump_search(arr, target)\n",
        "\n",
        "if result != -1:\n",
        "  print(f\"Nama ditemukan pada indeks {result}\")\n",
        "else:\n",
        "  print(\"Nama tidak ditemukan\")\n",
        "\n"
      ],
      "metadata": {
        "colab": {
          "base_uri": "https://localhost:8080/"
        },
        "id": "AOKn8eZwsy_o",
        "outputId": "7940cfc2-6d7f-4418-866c-2699fa18d9e6"
      },
      "execution_count": null,
      "outputs": [
        {
          "output_type": "stream",
          "name": "stdout",
          "text": [
            "Masukkan inisial nama Anda: Endang\n",
            "Nama ditemukan pada indeks 4\n"
          ]
        }
      ]
    },
    {
      "cell_type": "markdown",
      "source": [
        "# Tugas"
      ],
      "metadata": {
        "id": "wXcIq9_qCmUx"
      }
    },
    {
      "cell_type": "code",
      "source": [
        "import random\n",
        "import math\n",
        "import pandas as pd\n",
        "\n",
        "def linear_search(arr, target):\n",
        "    comparisons = 0\n",
        "    for i in range(len(arr)):\n",
        "        comparisons += 1\n",
        "        if arr[i] == target:\n",
        "            return i, comparisons\n",
        "    return -1, comparisons\n",
        "\n",
        "def binary_search(arr, target):\n",
        "    low, high = 0, len(arr) - 1\n",
        "    comparisons = 0\n",
        "    while low <= high:\n",
        "        mid = (low + high) // 2\n",
        "        comparisons += 1\n",
        "        if arr[mid] == target:\n",
        "            return mid, comparisons\n",
        "        elif arr[mid] < target:\n",
        "            low = mid + 1\n",
        "        else:\n",
        "            high = mid - 1\n",
        "    return -1, comparisons\n",
        "\n",
        "def jump_search(arr, target):\n",
        "    n = len(arr)\n",
        "    step = int(math.sqrt(n))\n",
        "    prev = 0\n",
        "    comparisons = 0\n",
        "    while arr[min(step, n) - 1] < target:\n",
        "        comparisons += 1\n",
        "        prev = step\n",
        "        step += int(math.sqrt(n))\n",
        "        if prev >= n:\n",
        "            return -1, comparisons\n",
        "    for i in range(prev, min(step, n)):\n",
        "        comparisons += 1\n",
        "        if arr[i] == target:\n",
        "            return i, comparisons\n",
        "    return -1, comparisons\n",
        "\n",
        "data = sorted(random.sample(range(1, 1001), 100))\n",
        "\n",
        "print(\"Data: \", data)\n",
        "target = int(input(\"Masukkan angka yang ingin dicari: \"))\n",
        "\n",
        "lin_result, lin_comparisons = linear_search(data, target)\n",
        "bin_result, bin_comparisons = binary_search(data, target)\n",
        "jump_result, jump_comparisons = jump_search(data, target)\n",
        "\n",
        "df = pd.DataFrame({\n",
        "    \"Algoritma Pencarian\": [\"Linear Search\", \"Binary Search\", \"Jump Search\"],\n",
        "    \"Jumlah Perbandingan\": [lin_comparisons, bin_comparisons, jump_comparisons]\n",
        "})\n",
        "\n",
        "print(\"\\nHasil pencarian:\")\n",
        "print(df)\n",
        "\n",
        "if lin_result == -1:\n",
        "    print(\"Sayang sekali, elemen yang dicari tidak ada\")\n"
      ],
      "metadata": {
        "id": "796VD4i1uMHZ",
        "colab": {
          "base_uri": "https://localhost:8080/"
        },
        "outputId": "b4ea8018-1c52-45f6-c054-edbdd22471ea"
      },
      "execution_count": 15,
      "outputs": [
        {
          "output_type": "stream",
          "name": "stdout",
          "text": [
            "Data:  [13, 14, 55, 70, 75, 95, 105, 124, 126, 143, 146, 167, 186, 196, 211, 229, 259, 285, 290, 291, 299, 334, 336, 352, 357, 360, 367, 382, 392, 400, 435, 438, 439, 446, 454, 456, 463, 472, 484, 494, 495, 496, 519, 529, 534, 536, 543, 548, 552, 555, 559, 568, 575, 605, 621, 636, 638, 644, 668, 673, 676, 686, 688, 711, 729, 739, 742, 752, 761, 762, 765, 774, 775, 781, 788, 790, 795, 803, 815, 823, 826, 832, 838, 839, 847, 851, 858, 883, 898, 903, 925, 927, 930, 931, 947, 966, 974, 984, 987, 989]\n",
            "Masukkan angka yang ingin dicari: 25\n",
            "\n",
            "Hasil pencarian:\n",
            "  Algoritma Pencarian  Jumlah Perbandingan\n",
            "0       Linear Search                  100\n",
            "1       Binary Search                    7\n",
            "2         Jump Search                   10\n",
            "Sayang sekali, elemen yang dicari tidak ada\n"
          ]
        }
      ]
    },
    {
      "cell_type": "code",
      "source": [],
      "metadata": {
        "id": "90YqlfxDCtdi"
      },
      "execution_count": null,
      "outputs": []
    }
  ]
}