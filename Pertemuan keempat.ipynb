{
  "nbformat": 4,
  "nbformat_minor": 0,
  "metadata": {
    "colab": {
      "provenance": []
    },
    "kernelspec": {
      "name": "python3",
      "display_name": "Python 3"
    },
    "language_info": {
      "name": "python"
    }
  },
  "cells": [
    {
      "cell_type": "code",
      "execution_count": null,
      "metadata": {
        "colab": {
          "base_uri": "https://localhost:8080/"
        },
        "id": "A-h-pqtCmYRK",
        "outputId": "29feb1c2-b832-49f4-9c32-a608db434026"
      },
      "outputs": [
        {
          "output_type": "stream",
          "name": "stdout",
          "text": [
            "Queue setelah enqueue: [10, 20, 30]\n",
            "Dequeue element: 10\n",
            "Front element: 20\n",
            "Rear element: 30\n",
            "Queue size: 2\n"
          ]
        }
      ],
      "source": [
        "# Implememtasi Queue menggunakan list\n",
        "class QueueList:\n",
        "  def __init__(self):\n",
        "    self.queue = []\n",
        "\n",
        "  def enqueue(self, item):\n",
        "    self.queue.append(item)\n",
        "\n",
        "  def dequeue(self):\n",
        "    if not self.is_empty():\n",
        "      return self.queue.pop(0)\n",
        "    else:\n",
        "      return None\n",
        "\n",
        "  def front(self):\n",
        "    return self.queue[0] if not self.is_empty() else None\n",
        "\n",
        "  def rear(self):\n",
        "    return self.queue[-1] if not self.is_empty() else None\n",
        "\n",
        "  def is_empty(self):\n",
        "    return len(self.queue) == 0\n",
        "\n",
        "  def size(self):\n",
        "    return len(self.queue)\n",
        "\n",
        "queue = QueueList()\n",
        "queue.enqueue(10)\n",
        "queue.enqueue(20)\n",
        "queue.enqueue(30)\n",
        "print(\"Queue setelah enqueue:\", queue.queue)\n",
        "print(\"Dequeue element:\", queue.dequeue())\n",
        "print(\"Front element:\", queue.front())\n",
        "print(\"Rear element:\", queue.rear())\n",
        "print(\"Queue size:\", queue.size())\n"
      ]
    },
    {
      "cell_type": "markdown",
      "source": [
        "Implementasi Queue dengan collections.deque"
      ],
      "metadata": {
        "id": "nzloWLrXy2sx"
      }
    },
    {
      "cell_type": "code",
      "source": [
        "from collections import deque\n",
        "\n",
        "# Implementasi Queue dengan menggunakan deque\n",
        "class QueueDeque:\n",
        "  def __init__(self):\n",
        "    self.queue = deque()\n",
        "\n",
        "  def enqueue(self, item):\n",
        "    self.queue.append(item)\n",
        "\n",
        "  def dequeue(self):\n",
        "    return self.queue.popleft() if not self.is_empty() else None\n",
        "\n",
        "  def front(self):\n",
        "    return self.queue[0] if not self.is_empty() else None\n",
        "\n",
        "  def rear(self):\n",
        "    return self.queue[-1] if not self.is_empty() else None\n",
        "\n",
        "  def is_empty(self):\n",
        "    return len(self.queue) == 0\n",
        "\n",
        "  def size(self):\n",
        "    return len(self. queue)\n",
        "\n",
        "# Contoh penggunaan\n",
        "queue = QueueDeque()\n",
        "queue.enqueue(10)\n",
        "queue.enqueue(20)\n",
        "queue.enqueue(30)\n",
        "print(\"Queue setelah enqueue:\", list(queue.queue))\n",
        "print(\"Dequeue element:\", queue.dequeue())\n",
        "print(\"Front element:\", queue.front())\n",
        "print(\"Rear element:\", queue.rear())\n",
        "print(\"Queue size:\", queue.size())"
      ],
      "metadata": {
        "colab": {
          "base_uri": "https://localhost:8080/"
        },
        "id": "fyFkjIWcFGfM",
        "outputId": "a70d6264-bee5-4f24-fd36-27952eca3bf0"
      },
      "execution_count": null,
      "outputs": [
        {
          "output_type": "stream",
          "name": "stdout",
          "text": [
            "Queue setelah enqueue: [10, 20, 30]\n",
            "Dequeue element: 10\n",
            "Front element: 20\n",
            "Rear element: 30\n",
            "Queue size: 2\n"
          ]
        }
      ]
    },
    {
      "cell_type": "markdown",
      "source": [
        "Implementasi Queue dengan queue.Queue"
      ],
      "metadata": {
        "id": "IaDJALbvHErf"
      }
    },
    {
      "cell_type": "code",
      "source": [
        "from queue import Queue\n",
        "# Implementasi Queue dengan menggunakan queue.Queue\n",
        "queue = Queue()\n",
        "\n",
        "queue.put(10)\n",
        "queue.put(20)\n",
        "queue.put(30)\n",
        "\n",
        "print(\"Queue size:\", queue.qsize())\n",
        "print(\"Dequeue element:\", queue.get())\n",
        "print(\"Queue size setelah dequeue\", queue.qsize())"
      ],
      "metadata": {
        "colab": {
          "base_uri": "https://localhost:8080/"
        },
        "id": "jUmm9G6sGej0",
        "outputId": "f45dc283-2a56-4d57-ebbd-c3aaf4a3b81c"
      },
      "execution_count": null,
      "outputs": [
        {
          "output_type": "stream",
          "name": "stdout",
          "text": [
            "Queue size: 3\n",
            "Dequeue element: 10\n",
            "Queue size setelah dequeue 2\n"
          ]
        }
      ]
    },
    {
      "cell_type": "markdown",
      "source": [
        "Implementasi Queue dengan Linked List"
      ],
      "metadata": {
        "id": "nHmBeoCsHtKB"
      }
    },
    {
      "cell_type": "code",
      "source": [
        "class Node:\n",
        "  def __init__(self, data):\n",
        "    self.data = data\n",
        "    self.next = None\n",
        "\n",
        "class QueueLinkedList:\n",
        "  def __init__(self):\n",
        "    self.front = self.rear = None\n",
        "\n",
        "  def enqueue(self, data):\n",
        "    new_node = Node(data)\n",
        "    if self.rear is None:\n",
        "      self.front = self.rear = new_node\n",
        "      return\n",
        "    self.rear.next = new_node\n",
        "    self.rear = new_node\n",
        "\n",
        "  def dequeue(self):\n",
        "    if self.front is None:\n",
        "      return None\n",
        "    dequeued_element = self.front.data\n",
        "    self.front = self.front.next\n",
        "    if self.front is None:\n",
        "      self.rear = None\n",
        "    return dequeued_element\n",
        "\n",
        "  def is_empty(self):\n",
        "    return self.front is None\n",
        "\n",
        "  def front_element(self):\n",
        "    return self.front.data if self.front else None\n",
        "\n",
        "  def rear_element(self):\n",
        "    return self.rear.data if self.rear else None\n",
        "\n",
        "# Contoh penggunaan\n",
        "queue = QueueLinkedList()\n",
        "queue.enqueue(10)\n",
        "queue.enqueue(20)\n",
        "queue.enqueue(30)\n",
        "print(\"Dequeued element:\", queue.dequeue())\n",
        "print(\"Front element:\", queue.front_element())\n",
        "print(\"Rear element:\", queue.rear_element())"
      ],
      "metadata": {
        "colab": {
          "base_uri": "https://localhost:8080/"
        },
        "id": "DuwNAqYYHong",
        "outputId": "1d5fce81-58af-49ac-b16e-ca94c8fcd3d5"
      },
      "execution_count": null,
      "outputs": [
        {
          "output_type": "stream",
          "name": "stdout",
          "text": [
            "Dequeued element: 10\n",
            "Front element: 20\n",
            "Rear element: 30\n"
          ]
        }
      ]
    },
    {
      "cell_type": "code",
      "source": [],
      "metadata": {
        "id": "V8IR7YnZKsvo"
      },
      "execution_count": null,
      "outputs": []
    },
    {
      "cell_type": "markdown",
      "source": [
        "# latihan 1\n"
      ],
      "metadata": {
        "id": "2tce8rVFKrqV"
      }
    },
    {
      "cell_type": "code",
      "source": [
        "class Simpul:\n",
        "    def __init__(self, data):\n",
        "        self.data = data\n",
        "        self.next = None\n",
        "\n",
        "class AntrianTertaut:\n",
        "    def __init__(self, kapasitas=10):\n",
        "        self.front = self.rear = None\n",
        "        self.ukuran = 0\n",
        "        self.kapasitas = kapasitas\n",
        "\n",
        "    def tambahkan(self, data):\n",
        "        if self.ukuran >= self.kapasitas:\n",
        "            print(\"Antrian penuh. Harap tunggu hingga ada slot kosong.\")\n",
        "            return\n",
        "        simpul_baru = Simpul(data)\n",
        "        if self.rear is None:\n",
        "            self.front = self.rear = simpul_baru\n",
        "        else:\n",
        "            self.rear.next = simpul_baru\n",
        "            self.rear = simpul_baru\n",
        "        self.ukuran += 1\n",
        "        print(f\"Pelanggan {data} telah ditambahkan ke antrian.\")\n",
        "\n",
        "    def layani(self):\n",
        "        if self.front is None:\n",
        "            print(\"Antrian kosong. Tidak ada pelanggan yang dapat dilayani.\")\n",
        "            return None\n",
        "        pelanggan_dilayani = self.front.data\n",
        "        self.front = self.front.next\n",
        "        if self.front is None:\n",
        "            self.rear = None\n",
        "        self.ukuran -= 1\n",
        "        print(f\"Pelanggan {pelanggan_dilayani} telah dilayani dan keluar dari antrian.\")\n",
        "        return pelanggan_dilayani\n",
        "\n",
        "    def apakah_kosong(self):\n",
        "        return self.front is None\n",
        "\n",
        "    def elemen_front(self):\n",
        "        return self.front.data if self.front else None\n",
        "\n",
        "    def elemen_rear(self):\n",
        "        return self.rear.data if self.rear else None\n",
        "\n",
        "    def ukuran_antrian(self):\n",
        "        return self.ukuran\n",
        "\n",
        "    def pelanggan_vip(self, data):\n",
        "        if '7' in data:\n",
        "            print(f\"Pelanggan VIP {data} langsung mendapatkan kursi tanpa mengantri.\")\n",
        "            return\n",
        "        self.tambahkan(data)\n",
        "\n",
        "def buat_kode_pelanggan():\n",
        "    while True:\n",
        "        nama = input(\"Masukkan dua huruf pertama nama pelanggan: \").strip().upper()\n",
        "        id = input(\"Masukkan dua digit terakhir id pelanggan: \").strip()\n",
        "        if len(nama) == 2 and len(id) == 2 and nama.isalpha() and id.isdigit():\n",
        "            return nama + id\n",
        "        print(\"Input tidak valid. Pastikan formatnya benar (dua huruf + dua angka). Coba lagi.\")\n",
        "\n",
        "antrian = AntrianTertaut()\n",
        "\n",
        "while True:\n",
        "    print(\"=====================================\")\n",
        "    print(\"|      Selamat datang di Bioskop       |\")\n",
        "    print(\"=====================================\")\n",
        "    print(\"\\nMenu:\")\n",
        "    print(\"1. Tambahkan pelanggan\")\n",
        "    print(\"2. Layani pelanggan\")\n",
        "    print(\"3. Lihat pelanggan pertama\")\n",
        "    print(\"4. Lihat pelanggan terakhir\")\n",
        "    print(\"5. Lihat ukuran antrian\")\n",
        "    print(\"6. Keluar\")\n",
        "    pilihan = input(\"Pilih menu: \")\n",
        "\n",
        "    if pilihan == \"1\":\n",
        "        kode_pelanggan = buat_kode_pelanggan()\n",
        "        antrian.pelanggan_vip(kode_pelanggan)\n",
        "    elif pilihan == \"2\":\n",
        "        antrian.layani()\n",
        "    elif pilihan == \"3\":\n",
        "        print(\"Pelanggan pertama dalam antrian:\", antrian.elemen_front())\n",
        "    elif pilihan == \"4\":\n",
        "        print(\"Pelanggan terakhir dalam antrian:\", antrian.elemen_rear())\n",
        "    elif pilihan == \"5\":\n",
        "        print(\"Ukuran antrian saat ini:\", antrian.ukuran_antrian())\n",
        "    elif pilihan == \"6\":\n",
        "        print(\"Keluar dari sistem.\")\n",
        "        break\n",
        "    else:\n",
        "        print(\"Pilihan tidak valid. Silakan coba lagi.\")\n"
      ],
      "metadata": {
        "id": "C9s18NaRJyCi"
      },
      "execution_count": null,
      "outputs": []
    },
    {
      "cell_type": "markdown",
      "source": [
        "# Latihan 2"
      ],
      "metadata": {
        "id": "AKXFgj1Mbg1a"
      }
    },
    {
      "cell_type": "code",
      "source": [
        "class AntrianFotokopi:\n",
        "    def __init__(self):\n",
        "        self.antrian = []\n",
        "\n",
        "    def enqueue(self, order_id, num_pages):\n",
        "        if num_pages < 10:\n",
        "            print(f\"Pesanan {order_id} dengan {num_pages} halaman langsung diproses (Fast Track).\")\n",
        "            return\n",
        "        elif num_pages > 100:\n",
        "            print(f\"Pesanan {order_id} dengan {num_pages} halaman akan diproses dalam dua tahap.\")\n",
        "        self.antrian.append((order_id, num_pages))\n",
        "        print(f\"Pesanan {order_id} telah ditambahkan ke antrian.\")\n",
        "\n",
        "    def dequeue(self):\n",
        "        if self.is_empty():\n",
        "            print(\"Antrian kosong. Tidak ada pesanan yang dapat dilayani.\")\n",
        "            return None\n",
        "        pesanan = self.antrian.pop(0)\n",
        "        print(f\"Pesanan {pesanan[0]} dengan {pesanan[1]} halaman telah diproses.\")\n",
        "        return pesanan\n",
        "\n",
        "    def front(self):\n",
        "        return self.antrian[0] if not self.is_empty() else None\n",
        "\n",
        "    def rear(self):\n",
        "        return self.antrian[-1] if not self.is_empty() else None\n",
        "\n",
        "    def is_empty(self):\n",
        "        return len(self.antrian) == 0\n",
        "\n",
        "    def size(self):\n",
        "        return len(self.antrian)\n",
        "\n",
        "def buat_order_id(nama, npm):\n",
        "    if len(nama) < 3 or len(npm) < 2:\n",
        "        print(\"Nama harus minimal 3 huruf dan NPM minimal 2 digit terakhir.\")\n",
        "        return None\n",
        "    return nama[:3].upper() + npm[-2:]\n",
        "\n",
        "antrian_fotokopi = AntrianFotokopi()\n",
        "\n",
        "while True:\n",
        "    print(\"=====================================================\")\n",
        "    print(\"|      🤖Selamat datang di Arges Foto Copy🤖       |\")\n",
        "    print(\"=====================================================\")\n",
        "    print(\"\\nMenu:\")\n",
        "    print(\"1. Tambah Pesanan\")\n",
        "    print(\"2. Layani Pesanan\")\n",
        "    print(\"3. Tampilkan Pesanan Pertama dan Terakhir\")\n",
        "    print(\"4. Cek Ukuran Antrian\")\n",
        "    print(\"5. Keluar\")\n",
        "\n",
        "    pilihan = input(\"Pilih menu (1-5): \")\n",
        "    if pilihan == \"1\":\n",
        "        nama = input(\"Masukkan nama mahasiswa: \")\n",
        "        npm = input(\"Masukkan NPM mahasiswa: \")\n",
        "        order_id = buat_order_id(nama, npm)\n",
        "        if order_id:\n",
        "            while True:\n",
        "                try:\n",
        "                    num_pages = int(input(\"Masukkan jumlah halaman: \"))\n",
        "                    if num_pages <= 0:\n",
        "                        print(\"Jumlah halaman harus lebih dari 0.\")\n",
        "                    else:\n",
        "                        break\n",
        "                except ValueError:\n",
        "                    print(\"Harap masukkan angka yang valid.\")\n",
        "            antrian_fotokopi.enqueue(order_id, num_pages)\n",
        "    elif pilihan == \"2\":\n",
        "        antrian_fotokopi.dequeue()\n",
        "    elif pilihan == \"3\":\n",
        "        print(\"Pesanan pertama dalam antrian:\", antrian_fotokopi.front())\n",
        "        print(\"Pesanan terakhir dalam antrian:\", antrian_fotokopi.rear())\n",
        "    elif pilihan == \"4\":\n",
        "        print(\"Jumlah pesanan dalam antrian:\", antrian_fotokopi.size())\n",
        "    elif pilihan == \"5\":\n",
        "        print(\"Terima kasih! Sampai jumpa di lain hari🤗.\")\n",
        "        break\n",
        "    else:\n",
        "        print(\"Pilihan tidak valid. Silakan coba lagi.\")\n"
      ],
      "metadata": {
        "id": "KLHRlBpzKyrt",
        "colab": {
          "base_uri": "https://localhost:8080/"
        },
        "outputId": "866a9391-e9ee-462b-f7e7-84262788321b"
      },
      "execution_count": 4,
      "outputs": [
        {
          "output_type": "stream",
          "name": "stdout",
          "text": [
            "=====================================================\n",
            "|      🤖Selamat datang di Arges Foto Copy🤖       |\n",
            "=====================================================\n",
            "\n",
            "Menu:\n",
            "1. Tambah Pesanan\n",
            "2. Layani Pesanan\n",
            "3. Tampilkan Pesanan Pertama dan Terakhir\n",
            "4. Cek Ukuran Antrian\n",
            "5. Keluar\n",
            "Pilih menu (1-5): 5\n",
            "Terima kasih! Program selesai.\n"
          ]
        }
      ]
    },
    {
      "cell_type": "markdown",
      "source": [
        "# Latihan 3"
      ],
      "metadata": {
        "id": "knQ8By4Y5sqo"
      }
    },
    {
      "cell_type": "code",
      "source": [
        "class AntrianParkir:\n",
        "    def __init__(self, kapasitas=15):\n",
        "        self.antrian = []\n",
        "        self.kapasitas = kapasitas\n",
        "\n",
        "    def enqueue(self, kendaraan, prioritas=False):\n",
        "        if len(self.antrian) >= self.kapasitas:\n",
        "            print(\"Parkiran penuh, harap tunggu kendaraan keluar.\")\n",
        "            return\n",
        "        if prioritas:\n",
        "            self.antrian.insert(0, kendaraan)\n",
        "        else:\n",
        "            self.antrian.append(kendaraan)\n",
        "        print(f\"Kendaraan {kendaraan} masuk parkiran.\")\n",
        "\n",
        "    def dequeue(self):\n",
        "        if self.antrian:\n",
        "            print(f\"Kendaraan {self.antrian.pop(0)} keluar parkiran.\")\n",
        "        else:\n",
        "            print(\"Parkiran kosong.\")\n",
        "\n",
        "    def lihat_antrian(self):\n",
        "        print(\"Antrian parkiran:\", self.antrian if self.antrian else \"Kosong\")\n",
        "\n",
        "parkiran = AntrianParkir()\n",
        "\n",
        "while True:\n",
        "    print(\"====================================================\")\n",
        "    print(\"|      🏎️Selamat datang di Parkiran Megah🏎️       |\")\n",
        "    print(\"====================================================\")\n",
        "    print(\"Menu:\")\n",
        "    print(\"1. Tambah Kendaraan\")\n",
        "    print(\"2. Keluarkan Kendaraan\")\n",
        "    print(\"3. Lihat Antrian\")\n",
        "    print(\"4. Keluar\\n\")\n",
        "\n",
        "    pilihan = input(\"Pilih menu: \")\n",
        "\n",
        "    if pilihan == \"1\":\n",
        "        kendaraan = input(\"Masukkan nomor kendaraan: \")\n",
        "        prioritas = input(\"Apakah kendaraan ramah lingkungan? (y/n): \").lower() == \"y\"\n",
        "        parkiran.enqueue(kendaraan, prioritas)\n",
        "    elif pilihan == \"2\":\n",
        "        parkiran.dequeue()\n",
        "    elif pilihan == \"3\":\n",
        "        parkiran.lihat_antrian()\n",
        "    elif pilihan == \"4\":\n",
        "        print(\"Terima kasih, program selesai.\")\n",
        "        break\n",
        "    else:\n",
        "        print(\"Pilihan tidak valid, coba lagi.\")\n"
      ],
      "metadata": {
        "colab": {
          "base_uri": "https://localhost:8080/",
          "height": 733
        },
        "id": "OyABp3gqzwJ3",
        "outputId": "a86fb7f7-7eed-4660-d0b3-0c2cb4a6b4a1"
      },
      "execution_count": 7,
      "outputs": [
        {
          "output_type": "stream",
          "name": "stdout",
          "text": [
            "=====================================================\n",
            "|      🏎️Selamat datang di Parkiran Megah🏎️       |\n",
            "=====================================================\n",
            "Menu:\n",
            "1. Tambah Kendaraan\n",
            "2. Keluarkan Kendaraan\n",
            "3. Lihat Antrian\n",
            "4. Keluar\n",
            "Pilih menu: 1\n",
            "Masukkan nomor kendaraan: lp0\n",
            "Apakah kendaraan ramah lingkungan? (y/n): y\n",
            "Kendaraan lp0 masuk parkiran.\n",
            "=====================================================\n",
            "|      🏎️Selamat datang di Parkiran Megah🏎️       |\n",
            "=====================================================\n",
            "Menu:\n",
            "1. Tambah Kendaraan\n",
            "2. Keluarkan Kendaraan\n",
            "3. Lihat Antrian\n",
            "4. Keluar\n"
          ]
        },
        {
          "output_type": "error",
          "ename": "KeyboardInterrupt",
          "evalue": "Interrupted by user",
          "traceback": [
            "\u001b[0;31m---------------------------------------------------------------------------\u001b[0m",
            "\u001b[0;31mKeyboardInterrupt\u001b[0m                         Traceback (most recent call last)",
            "\u001b[0;32m<ipython-input-7-8000ff8e3526>\u001b[0m in \u001b[0;36m<cell line: 0>\u001b[0;34m()\u001b[0m\n\u001b[1;32m     35\u001b[0m     \u001b[0mprint\u001b[0m\u001b[0;34m(\u001b[0m\u001b[0;34m\"4. Keluar\"\u001b[0m\u001b[0;34m)\u001b[0m\u001b[0;34m\u001b[0m\u001b[0;34m\u001b[0m\u001b[0m\n\u001b[1;32m     36\u001b[0m \u001b[0;34m\u001b[0m\u001b[0m\n\u001b[0;32m---> 37\u001b[0;31m     \u001b[0mpilihan\u001b[0m \u001b[0;34m=\u001b[0m \u001b[0minput\u001b[0m\u001b[0;34m(\u001b[0m\u001b[0;34m\"Pilih menu: \"\u001b[0m\u001b[0;34m)\u001b[0m\u001b[0;34m\u001b[0m\u001b[0;34m\u001b[0m\u001b[0m\n\u001b[0m\u001b[1;32m     38\u001b[0m \u001b[0;34m\u001b[0m\u001b[0m\n\u001b[1;32m     39\u001b[0m     \u001b[0;32mif\u001b[0m \u001b[0mpilihan\u001b[0m \u001b[0;34m==\u001b[0m \u001b[0;34m\"1\"\u001b[0m\u001b[0;34m:\u001b[0m\u001b[0;34m\u001b[0m\u001b[0;34m\u001b[0m\u001b[0m\n",
            "\u001b[0;32m/usr/local/lib/python3.11/dist-packages/ipykernel/kernelbase.py\u001b[0m in \u001b[0;36mraw_input\u001b[0;34m(self, prompt)\u001b[0m\n\u001b[1;32m   1175\u001b[0m                 \u001b[0;34m\"raw_input was called, but this frontend does not support input requests.\"\u001b[0m\u001b[0;34m\u001b[0m\u001b[0;34m\u001b[0m\u001b[0m\n\u001b[1;32m   1176\u001b[0m             )\n\u001b[0;32m-> 1177\u001b[0;31m         return self._input_request(\n\u001b[0m\u001b[1;32m   1178\u001b[0m             \u001b[0mstr\u001b[0m\u001b[0;34m(\u001b[0m\u001b[0mprompt\u001b[0m\u001b[0;34m)\u001b[0m\u001b[0;34m,\u001b[0m\u001b[0;34m\u001b[0m\u001b[0;34m\u001b[0m\u001b[0m\n\u001b[1;32m   1179\u001b[0m             \u001b[0mself\u001b[0m\u001b[0;34m.\u001b[0m\u001b[0m_parent_ident\u001b[0m\u001b[0;34m[\u001b[0m\u001b[0;34m\"shell\"\u001b[0m\u001b[0;34m]\u001b[0m\u001b[0;34m,\u001b[0m\u001b[0;34m\u001b[0m\u001b[0;34m\u001b[0m\u001b[0m\n",
            "\u001b[0;32m/usr/local/lib/python3.11/dist-packages/ipykernel/kernelbase.py\u001b[0m in \u001b[0;36m_input_request\u001b[0;34m(self, prompt, ident, parent, password)\u001b[0m\n\u001b[1;32m   1217\u001b[0m             \u001b[0;32mexcept\u001b[0m \u001b[0mKeyboardInterrupt\u001b[0m\u001b[0;34m:\u001b[0m\u001b[0;34m\u001b[0m\u001b[0;34m\u001b[0m\u001b[0m\n\u001b[1;32m   1218\u001b[0m                 \u001b[0;31m# re-raise KeyboardInterrupt, to truncate traceback\u001b[0m\u001b[0;34m\u001b[0m\u001b[0;34m\u001b[0m\u001b[0m\n\u001b[0;32m-> 1219\u001b[0;31m                 \u001b[0;32mraise\u001b[0m \u001b[0mKeyboardInterrupt\u001b[0m\u001b[0;34m(\u001b[0m\u001b[0;34m\"Interrupted by user\"\u001b[0m\u001b[0;34m)\u001b[0m \u001b[0;32mfrom\u001b[0m \u001b[0;32mNone\u001b[0m\u001b[0;34m\u001b[0m\u001b[0;34m\u001b[0m\u001b[0m\n\u001b[0m\u001b[1;32m   1220\u001b[0m             \u001b[0;32mexcept\u001b[0m \u001b[0mException\u001b[0m\u001b[0;34m:\u001b[0m\u001b[0;34m\u001b[0m\u001b[0;34m\u001b[0m\u001b[0m\n\u001b[1;32m   1221\u001b[0m                 \u001b[0mself\u001b[0m\u001b[0;34m.\u001b[0m\u001b[0mlog\u001b[0m\u001b[0;34m.\u001b[0m\u001b[0mwarning\u001b[0m\u001b[0;34m(\u001b[0m\u001b[0;34m\"Invalid Message:\"\u001b[0m\u001b[0;34m,\u001b[0m \u001b[0mexc_info\u001b[0m\u001b[0;34m=\u001b[0m\u001b[0;32mTrue\u001b[0m\u001b[0;34m)\u001b[0m\u001b[0;34m\u001b[0m\u001b[0;34m\u001b[0m\u001b[0m\n",
            "\u001b[0;31mKeyboardInterrupt\u001b[0m: Interrupted by user"
          ]
        }
      ]
    },
    {
      "cell_type": "markdown",
      "source": [
        "# Latihan 4"
      ],
      "metadata": {
        "id": "pNAqmPzp5wnl"
      }
    },
    {
      "cell_type": "code",
      "source": [
        "class AntrianSertifikat:\n",
        "    def __init__(self):\n",
        "        self.antrian = []\n",
        "\n",
        "    def enqueue(self, prodi, npm):\n",
        "        student_id = prodi[0].upper() + npm[-2:]\n",
        "        self.antrian.append(student_id)\n",
        "        print(f\"Mahasiswa {student_id} ditambahkan ke antrian.\")\n",
        "\n",
        "    def dequeue(self):\n",
        "        if self.is_empty():\n",
        "            print(\"Antrian kosong, tidak ada mahasiswa yang dapat dilayani.\")\n",
        "            return None\n",
        "        student_id = self.antrian.pop(0)\n",
        "        print(f\"Mahasiswa {student_id} telah mengambil sertifikat.\")\n",
        "        return student_id\n",
        "\n",
        "    def front(self):\n",
        "        return self.antrian[0] if not self.is_empty() else None\n",
        "\n",
        "    def rear(self):\n",
        "        return self.antrian[-1] if not self.is_empty() else None\n",
        "\n",
        "    def is_empty(self):\n",
        "        return len(self.antrian) == 0\n",
        "\n",
        "    def size(self):\n",
        "        return len(self.antrian)\n",
        "\n",
        "antrian = AntrianSertifikat()\n",
        "\n",
        "while True:\n",
        "    print(\"\\nMenu:\")\n",
        "    print(\"1. Tambah Mahasiswa ke Antrian\")\n",
        "    print(\"2. Layani Mahasiswa\")\n",
        "    print(\"3. Lihat Antrian Pertama & Terakhir\")\n",
        "    print(\"4. Cek Ukuran Antrian\")\n",
        "    print(\"5. Keluar\")\n",
        "\n",
        "    pilihan = input(\"Pilih menu (1-5): \")\n",
        "    if pilihan == \"1\":\n",
        "        prodi = input(\"Masukkan program studi: \")\n",
        "        npm = input(\"Masukkan NPM: \")\n",
        "        antrian.enqueue(prodi, npm)\n",
        "    elif pilihan == \"2\":\n",
        "        antrian.dequeue()\n",
        "    elif pilihan == \"3\":\n",
        "        print(f\"Mahasiswa pertama dalam antrian: {antrian.front()}\")\n",
        "        print(f\"Mahasiswa terakhir dalam antrian: {antrian.rear()}\")\n",
        "    elif pilihan == \"4\":\n",
        "        print(f\"Jumlah mahasiswa dalam antrian: {antrian.size()}\")\n",
        "    elif pilihan == \"5\":\n",
        "        print(\"Terima kasih! Program selesai.\")\n",
        "        break\n",
        "    else:\n",
        "        print(\"Pilihan tidak valid. Silakan coba lagi.\")\n"
      ],
      "metadata": {
        "colab": {
          "base_uri": "https://localhost:8080/"
        },
        "id": "T1Effe8Z3Gao",
        "outputId": "b5e047b7-a88f-4631-ebe6-4ea236b11f1b"
      },
      "execution_count": 8,
      "outputs": [
        {
          "output_type": "stream",
          "name": "stdout",
          "text": [
            "\n",
            "Menu:\n",
            "1. Tambah Mahasiswa ke Antrian\n",
            "2. Layani Mahasiswa\n",
            "3. Lihat Antrian Pertama & Terakhir\n",
            "4. Cek Ukuran Antrian\n",
            "5. Keluar\n",
            "Pilih menu (1-5): 1\n",
            "Masukkan program studi: kom\n",
            "Masukkan NPM: 90\n",
            "Mahasiswa K90 ditambahkan ke antrian.\n",
            "\n",
            "Menu:\n",
            "1. Tambah Mahasiswa ke Antrian\n",
            "2. Layani Mahasiswa\n",
            "3. Lihat Antrian Pertama & Terakhir\n",
            "4. Cek Ukuran Antrian\n",
            "5. Keluar\n",
            "Pilih menu (1-5): 2\n",
            "Mahasiswa K90 telah mengambil sertifikat.\n",
            "\n",
            "Menu:\n",
            "1. Tambah Mahasiswa ke Antrian\n",
            "2. Layani Mahasiswa\n",
            "3. Lihat Antrian Pertama & Terakhir\n",
            "4. Cek Ukuran Antrian\n",
            "5. Keluar\n",
            "Pilih menu (1-5): 5\n",
            "Terima kasih! Program selesai.\n"
          ]
        }
      ]
    },
    {
      "cell_type": "code",
      "source": [],
      "metadata": {
        "id": "n3oW3qUl6UZv"
      },
      "execution_count": null,
      "outputs": []
    }
  ]
}